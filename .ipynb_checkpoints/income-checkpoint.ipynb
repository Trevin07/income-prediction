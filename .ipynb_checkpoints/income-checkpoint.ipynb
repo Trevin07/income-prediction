{
 "cells": [
  {
   "cell_type": "code",
   "execution_count": 42,
   "id": "df38b067-d2df-4916-902d-2994c3680573",
   "metadata": {},
   "outputs": [],
   "source": [
    "import pandas as pd\n",
    "from sklearn.model_selection import train_test_split\n",
    "from sklearn.preprocessing import StandardScaler\n",
    "from sklearn.impute import SimpleImputer\n",
    "from sklearn.linear_model import LogisticRegression\n",
    "from sklearn.metrics import accuracy_score, classification_report\n",
    "from sklearn.neural_network import MLPClassifier\n"
   ]
  },
  {
   "cell_type": "code",
   "execution_count": 43,
   "id": "abbf9927-6c19-49a6-8977-430c0d289da2",
   "metadata": {},
   "outputs": [
    {
     "data": {
      "text/html": [
       "<div>\n",
       "<style scoped>\n",
       "    .dataframe tbody tr th:only-of-type {\n",
       "        vertical-align: middle;\n",
       "    }\n",
       "\n",
       "    .dataframe tbody tr th {\n",
       "        vertical-align: top;\n",
       "    }\n",
       "\n",
       "    .dataframe thead th {\n",
       "        text-align: right;\n",
       "    }\n",
       "</style>\n",
       "<table border=\"1\" class=\"dataframe\">\n",
       "  <thead>\n",
       "    <tr style=\"text-align: right;\">\n",
       "      <th></th>\n",
       "      <th>age</th>\n",
       "      <th>workclass</th>\n",
       "      <th>fnlwgt</th>\n",
       "      <th>education</th>\n",
       "      <th>education-num</th>\n",
       "      <th>marital-status</th>\n",
       "      <th>occupation</th>\n",
       "      <th>relationship</th>\n",
       "      <th>race</th>\n",
       "      <th>sex</th>\n",
       "      <th>capital-gain</th>\n",
       "      <th>capital-loss</th>\n",
       "      <th>hours-per-week</th>\n",
       "      <th>country</th>\n",
       "      <th>salary</th>\n",
       "    </tr>\n",
       "  </thead>\n",
       "  <tbody>\n",
       "    <tr>\n",
       "      <th>0</th>\n",
       "      <td>39</td>\n",
       "      <td>State-gov</td>\n",
       "      <td>77516</td>\n",
       "      <td>Bachelors</td>\n",
       "      <td>13</td>\n",
       "      <td>Never-married</td>\n",
       "      <td>Adm-clerical</td>\n",
       "      <td>Not-in-family</td>\n",
       "      <td>White</td>\n",
       "      <td>Male</td>\n",
       "      <td>2174</td>\n",
       "      <td>0</td>\n",
       "      <td>40</td>\n",
       "      <td>United-States</td>\n",
       "      <td>0</td>\n",
       "    </tr>\n",
       "    <tr>\n",
       "      <th>1</th>\n",
       "      <td>50</td>\n",
       "      <td>Self-emp-not-inc</td>\n",
       "      <td>83311</td>\n",
       "      <td>Bachelors</td>\n",
       "      <td>13</td>\n",
       "      <td>Married-civ-spouse</td>\n",
       "      <td>Exec-managerial</td>\n",
       "      <td>Husband</td>\n",
       "      <td>White</td>\n",
       "      <td>Male</td>\n",
       "      <td>0</td>\n",
       "      <td>0</td>\n",
       "      <td>13</td>\n",
       "      <td>United-States</td>\n",
       "      <td>0</td>\n",
       "    </tr>\n",
       "    <tr>\n",
       "      <th>2</th>\n",
       "      <td>38</td>\n",
       "      <td>Private</td>\n",
       "      <td>215646</td>\n",
       "      <td>HS-grad</td>\n",
       "      <td>9</td>\n",
       "      <td>Divorced</td>\n",
       "      <td>Handlers-cleaners</td>\n",
       "      <td>Not-in-family</td>\n",
       "      <td>White</td>\n",
       "      <td>Male</td>\n",
       "      <td>0</td>\n",
       "      <td>0</td>\n",
       "      <td>40</td>\n",
       "      <td>United-States</td>\n",
       "      <td>0</td>\n",
       "    </tr>\n",
       "    <tr>\n",
       "      <th>3</th>\n",
       "      <td>53</td>\n",
       "      <td>Private</td>\n",
       "      <td>234721</td>\n",
       "      <td>11th</td>\n",
       "      <td>7</td>\n",
       "      <td>Married-civ-spouse</td>\n",
       "      <td>Handlers-cleaners</td>\n",
       "      <td>Husband</td>\n",
       "      <td>Black</td>\n",
       "      <td>Male</td>\n",
       "      <td>0</td>\n",
       "      <td>0</td>\n",
       "      <td>40</td>\n",
       "      <td>United-States</td>\n",
       "      <td>0</td>\n",
       "    </tr>\n",
       "    <tr>\n",
       "      <th>4</th>\n",
       "      <td>28</td>\n",
       "      <td>Private</td>\n",
       "      <td>338409</td>\n",
       "      <td>Bachelors</td>\n",
       "      <td>13</td>\n",
       "      <td>Married-civ-spouse</td>\n",
       "      <td>Prof-specialty</td>\n",
       "      <td>Wife</td>\n",
       "      <td>Black</td>\n",
       "      <td>Female</td>\n",
       "      <td>0</td>\n",
       "      <td>0</td>\n",
       "      <td>40</td>\n",
       "      <td>Cuba</td>\n",
       "      <td>0</td>\n",
       "    </tr>\n",
       "  </tbody>\n",
       "</table>\n",
       "</div>"
      ],
      "text/plain": [
       "   age          workclass  fnlwgt   education  education-num  \\\n",
       "0   39          State-gov   77516   Bachelors             13   \n",
       "1   50   Self-emp-not-inc   83311   Bachelors             13   \n",
       "2   38            Private  215646     HS-grad              9   \n",
       "3   53            Private  234721        11th              7   \n",
       "4   28            Private  338409   Bachelors             13   \n",
       "\n",
       "        marital-status          occupation    relationship    race      sex  \\\n",
       "0        Never-married        Adm-clerical   Not-in-family   White     Male   \n",
       "1   Married-civ-spouse     Exec-managerial         Husband   White     Male   \n",
       "2             Divorced   Handlers-cleaners   Not-in-family   White     Male   \n",
       "3   Married-civ-spouse   Handlers-cleaners         Husband   Black     Male   \n",
       "4   Married-civ-spouse      Prof-specialty            Wife   Black   Female   \n",
       "\n",
       "   capital-gain  capital-loss  hours-per-week         country  salary  \n",
       "0          2174             0              40   United-States       0  \n",
       "1             0             0              13   United-States       0  \n",
       "2             0             0              40   United-States       0  \n",
       "3             0             0              40   United-States       0  \n",
       "4             0             0              40            Cuba       0  "
      ]
     },
     "execution_count": 43,
     "metadata": {},
     "output_type": "execute_result"
    }
   ],
   "source": [
    "dataset = pd.read_csv('data.csv')\n",
    "dataset.head()"
   ]
  },
  {
   "cell_type": "code",
   "execution_count": 44,
   "id": "e1805ad8-977e-4928-986d-58b5b8f6ac48",
   "metadata": {},
   "outputs": [],
   "source": [
    "dataset.drop(columns=['fnlwgt', 'education', 'capital-gain', 'capital-loss'], inplace=True)\n"
   ]
  },
  {
   "cell_type": "code",
   "execution_count": 45,
   "id": "f3186e38-2834-439f-bb01-3cca68d3d605",
   "metadata": {},
   "outputs": [],
   "source": [
    "dataset.fillna(dataset.mode().iloc[0], inplace=True)\n",
    "dataset['salary'] = dataset['salary'].apply(lambda x: 1 if x == '>50K' else 0)"
   ]
  },
  {
   "cell_type": "code",
   "execution_count": 46,
   "id": "db01ed77-d702-4e58-b892-7f0034dbb7a6",
   "metadata": {},
   "outputs": [],
   "source": [
    "features = pd.get_dummies(features, drop_first=True)\n",
    "\n"
   ]
  },
  {
   "cell_type": "code",
   "execution_count": 53,
   "id": "c8384559-c327-495a-8e44-0b7d9a332abb",
   "metadata": {},
   "outputs": [],
   "source": [
    "dataset = pd.get_dummies(dataset, drop_first=True)"
   ]
  },
  {
   "cell_type": "code",
   "execution_count": 54,
   "id": "85c8d83d-c730-4584-b9f6-b8eff33ebb14",
   "metadata": {},
   "outputs": [
    {
     "name": "stdout",
     "output_type": "stream",
     "text": [
      "Index(['age', 'education-num', 'hours-per-week', 'salary',\n",
      "       'workclass_ Federal-gov', 'workclass_ Local-gov',\n",
      "       'workclass_ Never-worked', 'workclass_ Private',\n",
      "       'workclass_ Self-emp-inc', 'workclass_ Self-emp-not-inc',\n",
      "       'workclass_ State-gov', 'workclass_ Without-pay',\n",
      "       'marital-status_ Married-AF-spouse',\n",
      "       'marital-status_ Married-civ-spouse',\n",
      "       'marital-status_ Married-spouse-absent',\n",
      "       'marital-status_ Never-married', 'marital-status_ Separated',\n",
      "       'marital-status_ Widowed', 'occupation_ Adm-clerical',\n",
      "       'occupation_ Armed-Forces', 'occupation_ Craft-repair',\n",
      "       'occupation_ Exec-managerial', 'occupation_ Farming-fishing',\n",
      "       'occupation_ Handlers-cleaners', 'occupation_ Machine-op-inspct',\n",
      "       'occupation_ Other-service', 'occupation_ Priv-house-serv',\n",
      "       'occupation_ Prof-specialty', 'occupation_ Protective-serv',\n",
      "       'occupation_ Sales', 'occupation_ Tech-support',\n",
      "       'occupation_ Transport-moving', 'relationship_ Not-in-family',\n",
      "       'relationship_ Other-relative', 'relationship_ Own-child',\n",
      "       'relationship_ Unmarried', 'relationship_ Wife',\n",
      "       'race_ Asian-Pac-Islander', 'race_ Black', 'race_ Other', 'race_ White',\n",
      "       'sex_ Male', 'country_ Cambodia', 'country_ Canada', 'country_ China',\n",
      "       'country_ Columbia', 'country_ Cuba', 'country_ Dominican-Republic',\n",
      "       'country_ Ecuador', 'country_ El-Salvador', 'country_ England',\n",
      "       'country_ France', 'country_ Germany', 'country_ Greece',\n",
      "       'country_ Guatemala', 'country_ Haiti', 'country_ Holand-Netherlands',\n",
      "       'country_ Honduras', 'country_ Hong', 'country_ Hungary',\n",
      "       'country_ India', 'country_ Iran', 'country_ Ireland', 'country_ Italy',\n",
      "       'country_ Jamaica', 'country_ Japan', 'country_ Laos',\n",
      "       'country_ Mexico', 'country_ Nicaragua',\n",
      "       'country_ Outlying-US(Guam-USVI-etc)', 'country_ Peru',\n",
      "       'country_ Philippines', 'country_ Poland', 'country_ Portugal',\n",
      "       'country_ Puerto-Rico', 'country_ Scotland', 'country_ South',\n",
      "       'country_ Taiwan', 'country_ Thailand', 'country_ Trinadad&Tobago',\n",
      "       'country_ United-States', 'country_ Vietnam', 'country_ Yugoslavia'],\n",
      "      dtype='object')\n"
     ]
    }
   ],
   "source": [
    "print(dataset.columns)\n"
   ]
  },
  {
   "cell_type": "code",
   "execution_count": 57,
   "id": "5a57582c-761b-4a7f-af7c-40f4a9e3a516",
   "metadata": {},
   "outputs": [],
   "source": [
    "features = dataset[['age', 'education-num'] + [col for col in dataset.columns if 'workclass' in col or 'country' in col]]\n",
    "target = dataset['salary']\n"
   ]
  },
  {
   "cell_type": "code",
   "execution_count": 58,
   "id": "f1f8a0b3-96a0-4a38-a86b-91ddcf66ace8",
   "metadata": {},
   "outputs": [],
   "source": [
    "numerical_cols = ['capital-gain', 'capital-loss', 'hours-per-week']\n",
    "missing_cols = [col for col in numerical_cols if col not in features.columns]\n"
   ]
  },
  {
   "cell_type": "code",
   "execution_count": 59,
   "id": "c496ce6d-9a20-408a-b9e2-df5409b09b72",
   "metadata": {},
   "outputs": [
    {
     "name": "stdout",
     "output_type": "stream",
     "text": [
      "Warning: Missing columns for scaling: ['capital-gain', 'capital-loss', 'hours-per-week']\n",
      "Skipping scaling for missing columns: ['capital-gain', 'capital-loss', 'hours-per-week']\n"
     ]
    }
   ],
   "source": [
    "if not missing_cols:\n",
    "    scaler = StandardScaler()\n",
    "    features[numerical_cols] = scaler.fit_transform(features[numerical_cols])\n",
    "else:\n",
    "    print(f\"Warning: Missing columns for scaling: {missing_cols}\")\n",
    "    print(f\"Skipping scaling for missing columns: {missing_cols}\")\n",
    "\n"
   ]
  },
  {
   "cell_type": "code",
   "execution_count": 60,
   "id": "f7b204b5-22af-4f2a-8431-0776154fe7e5",
   "metadata": {},
   "outputs": [],
   "source": [
    "X_train, X_test, y_train, y_test = train_test_split(features, target, test_size=0.2, random_state=42)\n"
   ]
  },
  {
   "cell_type": "code",
   "execution_count": 62,
   "id": "4ba40a59-2ebf-45a3-ad32-d1bf3b0932ce",
   "metadata": {},
   "outputs": [],
   "source": [
    "from sklearn.preprocessing import StandardScaler\n",
    "scaler = StandardScaler()\n",
    "X_train[['age', 'education-num']] = scaler.fit_transform(X_train[['age', 'education-num']])\n",
    "X_test[['age', 'education-num']] = scaler.transform(X_test[['age', 'education-num']])\n"
   ]
  },
  {
   "cell_type": "code",
   "execution_count": 65,
   "id": "cdd39ba1-309f-4a74-b6cb-9cde6738ef7b",
   "metadata": {},
   "outputs": [
    {
     "name": "stdout",
     "output_type": "stream",
     "text": [
      "Linear Regression Mean Squared Error:  0.0\n"
     ]
    }
   ],
   "source": [
    "from sklearn.linear_model import LinearRegression\n",
    "from sklearn.metrics import mean_squared_error\n",
    "\n",
    "linear_model = LinearRegression()\n",
    "\n",
    "\n",
    "linear_model.fit(X_train, y_train)\n",
    "\n",
    "\n",
    "y_pred_linear = linear_model.predict(X_test)\n",
    "\n",
    "\n",
    "mse = mean_squared_error(y_test, y_pred_linear)\n",
    "print(\"Linear Regression Mean Squared Error: \", mse)\n"
   ]
  },
  {
   "cell_type": "code",
   "execution_count": 66,
   "id": "42f2ed09-8d59-44a4-9c61-a5b59525a3b6",
   "metadata": {},
   "outputs": [
    {
     "name": "stdout",
     "output_type": "stream",
     "text": [
      "Neural Network Mean Squared Error:  3.183330912743543e-05\n"
     ]
    }
   ],
   "source": [
    "from sklearn.neural_network import MLPRegressor\n",
    "from sklearn.metrics import mean_squared_error\n",
    "\n",
    "\n",
    "neural_network_model = MLPRegressor(hidden_layer_sizes=(100,), max_iter=1000)\n",
    "\n",
    "\n",
    "neural_network_model.fit(X_train, y_train)\n",
    "\n",
    "\n",
    "y_pred_nn = neural_network_model.predict(X_test)\n",
    "\n",
    "\n",
    "mse_nn = mean_squared_error(y_test, y_pred_nn)\n",
    "print(\"Neural Network Mean Squared Error: \", mse_nn)"
   ]
  },
  {
   "cell_type": "code",
   "execution_count": null,
   "id": "86cd476b-cf58-4a71-be74-d6e21850f7d4",
   "metadata": {},
   "outputs": [],
   "source": []
  }
 ],
 "metadata": {
  "kernelspec": {
   "display_name": "Python 3 (ipykernel)",
   "language": "python",
   "name": "python3"
  },
  "language_info": {
   "codemirror_mode": {
    "name": "ipython",
    "version": 3
   },
   "file_extension": ".py",
   "mimetype": "text/x-python",
   "name": "python",
   "nbconvert_exporter": "python",
   "pygments_lexer": "ipython3",
   "version": "3.11.7"
  }
 },
 "nbformat": 4,
 "nbformat_minor": 5
}
